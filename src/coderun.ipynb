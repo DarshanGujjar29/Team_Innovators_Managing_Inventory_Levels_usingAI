{
  "cells": [
    {
      "cell_type": "code",
      "source": [
        "# prompt: pip install numpy\n",
        "\n",
        "!pip install numpy\n",
        "\n",
        "import numpy as np\n",
        "import matplotlib.pyplot as plt\n",
        "\n",
        "\n",
        "months = np.array([1, 2, 3, 4, 5, 6, 7, 8, 9, 10, 11, 12])\n",
        "failures = np.array([5, 4, 6, 7, 5, 6, 8, 9, 6, 5, 4, 6])\n",
        "\n",
        "\n",
        "mean_x = np.mean(months)\n",
        "mean_y = np.mean(failures)\n",
        "\n",
        "numerator = np.sum((months - mean_x) * (failures - mean_y))\n",
        "denominator = np.sum((months - mean_x)**2)\n",
        "m = numerator / denominator\n",
        "\n",
        "b = mean_y - (m * mean_x)\n",
        "\n",
        "predicted_failures = m * months + b\n",
        "\n",
        "print(f\"Linear Regression Model: y = {m:.2f}x + {b:.2f}\")\n",
        "\n",
        "plt.figure(figsize=(8,6))\n",
        "plt.scatter(months, failures, color='blue', label='Actual Failures')\n",
        "plt.plot(months, predicted_failures, color='red', label='Predicted Failures')\n",
        "plt.title('Equipment Failures: Actual vs Predicted')\n",
        "plt.xlabel('Month')\n",
        "plt.ylabel('Number of Failures')\n",
        "plt.legend()\n",
        "plt.grid(True)\n",
        "plt.show()\n",
        "\n",
        "\n",
        "\n"
      ],
      "metadata": {
        "id": "LC0_pELgg2GM"
      },
      "execution_count": null,
      "outputs": []
    },
    {
      "cell_type": "code",
      "source": [
        "import numpy as np\n",
        "import matplotlib.pyplot as plt\n",
        "\n",
        "\n",
        "months = np.array([1, 2, 3, 4, 5, 6, 7, 8, 9, 10, 11, 12])\n",
        "failures_2023 = np.array([5, 4, 6, 7, 5, 6, 8, 9, 6, 5, 4, 6])\n",
        "\n",
        "\n",
        "mean_failures = np.mean(failures_2023)\n",
        "std_dev_failures = np.std(failures_2023)\n",
        "min_failures = np.min(failures_2023)\n",
        "max_failures = np.max(failures_2023)\n",
        "\n",
        "print(f\"Mean Failures (2023): {mean_failures}\")\n",
        "print(f\"Standard Deviation of Failures: {std_dev_failures}\")\n",
        "print(f\"Minimum Failures: {min_failures}\")\n",
        "print(f\"Maximum Failures: {max_failures}\")\n",
        "\n",
        "mean_x = np.mean(months)\n",
        "mean_y = np.mean(failures_2023)\n",
        "\n",
        "numerator = np.sum((months - mean_x) * (failures_2023 - mean_y))\n",
        "denominator = np.sum((months - mean_x) ** 2)\n",
        "m = numerator / denominator\n",
        "b = mean_y - (m * mean_x)\n",
        "\n",
        "print(f\"Linear Regression Model: y = {m:.2f}x + {b:.2f}\")\n",
        "months_2024 = np.array([13, 14, 15, 16, 17, 18, 19, 20, 21, 22, 23, 24])\n",
        "predicted_failures_2024 = m * months_2024 + b\n",
        "\n",
        "\n",
        "plt.figure(figsize=(10,6))\n",
        "plt.plot(months, failures_2023, label='Actual Failures (2023)', marker='o', color='blue')\n",
        "plt.plot(months_2024, predicted_failures_2024, label='Predicted Failures (2024)', linestyle='--', marker='x', color='red')\n",
        "plt.title('Equipment Failures: 2023 Data and 2024 Predictions')\n",
        "plt.xlabel('Month')\n",
        "plt.ylabel('Number of Failures')\n",
        "plt.legend()\n",
        "plt.grid(True)\n",
        "plt.show()\n"
      ],
      "metadata": {
        "id": "TbcLI0lGiyw7"
      },
      "execution_count": null,
      "outputs": []
    },
    {
      "cell_type": "code",
      "source": [],
      "metadata": {
        "id": "qhZGp5uszbzw"
      },
      "execution_count": null,
      "outputs": []
    },
    {
      "cell_type": "code",
      "execution_count": null,
      "metadata": {
        "id": "C4HZx7Gndbrh"
      },
      "outputs": [],
      "source": [
        "import numpy as np\n",
        "import IPython.display as display\n",
        "from matplotlib import pyplot as plt\n",
        "import io\n",
        "import base64\n",
        "\n",
        "ys = 200 + np.random.randn(100)\n",
        "x = [x for x in range(len(ys))]\n",
        "\n",
        "fig = plt.figure(figsize=(4, 3), facecolor='w')\n",
        "plt.plot(x, ys, '-')\n",
        "plt.fill_between(x, ys, 195, where=(ys > 195), facecolor='g', alpha=0.6)\n",
        "plt.title(\"Sample Visualization\", fontsize=10)\n",
        "\n",
        "data = io.BytesIO()\n",
        "plt.savefig(data)\n",
        "image = F\"data:image/png;base64,{base64.b64encode(data.getvalue()).decode()}\"\n",
        "alt = \"Sample Visualization\"\n",
        "display.display(display.Markdown(F\"\"\"![{alt}]({image})\"\"\"))\n",
        "plt.close(fig)"
      ]
    }
  ],
  "metadata": {
    "colab": {
      "provenance": []
    },
    "kernelspec": {
      "display_name": "Python 3",
      "name": "python3"
    }
  },
  "nbformat": 4,
  "nbformat_minor": 0
}